{
 "cells": [
  {
   "cell_type": "code",
   "execution_count": 34,
   "metadata": {},
   "outputs": [
    {
     "data": {
      "text/plain": [
       "['YULIANITA\\n',\n",
       " 'MUHAMAD FARRAS HANINDITO RUKMANTORO\\n',\n",
       " 'ATIKA MARASABESSY\\n',\n",
       " 'INDAH RAHMADHANIA\\n',\n",
       " 'AHMAD MUHAJIR\\n',\n",
       " 'SUMIHAR CHRISTIAN N S\\n',\n",
       " 'YOHANES A CRUX GOSAL\\n',\n",
       " 'MOHAMAD ILHAM DWI FIRMANSYAH\\n',\n",
       " 'YUDA HENDRIAWAN BUDI HANDOKO\\n',\n",
       " 'SHAFIRA HERLINAWATI\\n',\n",
       " 'HENGKY KURNIAWAN\\n',\n",
       " 'SOVIA PRABANINGTYAS\\n',\n",
       " 'FERISA TRI PUTRI PRESTASI\\n',\n",
       " 'NUR LAILI ASTI PRAMESTI\\n',\n",
       " 'RENJIRO OWEN\\n',\n",
       " 'RIF`AN AMROZI\\n',\n",
       " 'SOMA USHIO\\n',\n",
       " 'ZUHAIR\\n',\n",
       " 'FRANSISCA DIVA AMADEA\\n',\n",
       " 'MIRDHA SUCI ANANDA\\n',\n",
       " 'JULINAR\\n',\n",
       " 'MUHAMMAD NANDA SETIAWAN\\n',\n",
       " 'ALDI EKA WAHYU WIDIANTO\\n',\n",
       " 'ARIQOH FAUZIYAH IRBAH\\n',\n",
       " 'GALANG REFORMANTOKO\\n',\n",
       " 'RIO TINTO HERLAMBANG\\n',\n",
       " 'MUHAMMAD JEFRI FRANSISKA\\n',\n",
       " 'EDWIN RISBOWO\\n',\n",
       " 'ALLIF ALFIYAN\\n',\n",
       " 'MOCHAMAD FARHAN MARGA KUSUMA\\n',\n",
       " 'ANGGA KURNIAWAN\\n',\n",
       " 'FARHAN HAFIZH\\n',\n",
       " 'ANDI AQIL AMANULHAQ\\n']"
      ]
     },
     "execution_count": 34,
     "metadata": {},
     "output_type": "execute_result"
    }
   ],
   "source": [
    "with open('nama.txt') as f:\n",
    "    nama=f.readlines()\n",
    "nama"
   ]
  },
  {
   "cell_type": "code",
   "execution_count": 35,
   "metadata": {},
   "outputs": [],
   "source": [
    "random_list=[1,2,3,4,5]\n",
    "with open('nama1.txt','w') as f:\n",
    "    for nomor in random_list:\n",
    "        f.write(str(nomor))"
   ]
  },
  {
   "cell_type": "code",
   "execution_count": 36,
   "metadata": {},
   "outputs": [],
   "source": [
    "with open('nama2.txt','w') as test:\n",
    "    for nomor in random_list:\n",
    "        test.write(str(nomor)+'\\n')"
   ]
  },
  {
   "cell_type": "code",
   "execution_count": 40,
   "metadata": {},
   "outputs": [
    {
     "data": {
      "text/plain": [
       "['YULIANITA',\n",
       " 'MUHAMAD FARRAS HANINDITO RUKMANTORO',\n",
       " 'ATIKA MARASABESSY',\n",
       " 'INDAH RAHMADHANIA',\n",
       " 'AHMAD MUHAJIR',\n",
       " 'SUMIHAR CHRISTIAN N S',\n",
       " 'YOHANES A CRUX GOSAL',\n",
       " 'MOHAMAD ILHAM DWI FIRMANSYAH',\n",
       " 'YUDA HENDRIAWAN BUDI HANDOKO',\n",
       " 'SHAFIRA HERLINAWATI',\n",
       " 'HENGKY KURNIAWAN',\n",
       " 'SOVIA PRABANINGTYAS',\n",
       " 'FERISA TRI PUTRI PRESTASI',\n",
       " 'NUR LAILI ASTI PRAMESTI',\n",
       " 'RENJIRO OWEN',\n",
       " 'RIF`AN AMROZI',\n",
       " 'SOMA USHIO',\n",
       " 'ZUHAIR',\n",
       " 'FRANSISCA DIVA AMADEA',\n",
       " 'MIRDHA SUCI ANANDA',\n",
       " 'JULINAR',\n",
       " 'MUHAMMAD NANDA SETIAWAN',\n",
       " 'ALDI EKA WAHYU WIDIANTO',\n",
       " 'ARIQOH FAUZIYAH IRBAH',\n",
       " 'GALANG REFORMANTOKO',\n",
       " 'RIO TINTO HERLAMBANG',\n",
       " 'MUHAMMAD JEFRI FRANSISKA',\n",
       " 'EDWIN RISBOWO',\n",
       " 'ALLIF ALFIYAN',\n",
       " 'MOCHAMAD FARHAN MARGA KUSUMA',\n",
       " 'ANGGA KURNIAWAN',\n",
       " 'FARHAN HAFIZH',\n",
       " 'ANDI AQIL AMANULHAQ']"
      ]
     },
     "execution_count": 40,
     "metadata": {},
     "output_type": "execute_result"
    }
   ],
   "source": [
    "with open('nama.txt') as orang:\n",
    "    nama=orang.readlines()\n",
    "    \n",
    "nama\n",
    "mahasiswa=[]\n",
    "for orang in nama:\n",
    "    orang=orang.strip()\n",
    "    mahasiswa.append(orang)\n",
    "mahasiswa"
   ]
  },
  {
   "cell_type": "code",
   "execution_count": 41,
   "metadata": {},
   "outputs": [
    {
     "name": "stdout",
     "output_type": "stream",
     "text": [
      "[1, 2, 3, 3, 3, 55]\n",
      "[1, 4, 9, 9, 9, 3025]\n"
     ]
    }
   ],
   "source": [
    "list_seribu=[]\n",
    "random_list=[1,2,3,3,3,55]\n",
    "for i in range(1000):\n",
    "    list_seribu.append(i)\n",
    "print(random_list)\n",
    "\n",
    "for i in range(len(random_list)):\n",
    "     random_list[i]=random_list[i]**2\n",
    "print(random_list)"
   ]
  },
  {
   "cell_type": "code",
   "execution_count": 42,
   "metadata": {},
   "outputs": [
    {
     "name": "stdout",
     "output_type": "stream",
     "text": [
      "0 . YULIANITA\n",
      "1 . MUHAMAD FARRAS HANINDITO RUKMANTORO\n",
      "2 . ATIKA MARASABESSY\n",
      "3 . INDAH RAHMADHANIA\n",
      "4 . AHMAD MUHAJIR\n",
      "5 . SUMIHAR CHRISTIAN N S\n",
      "6 . YOHANES A CRUX GOSAL\n",
      "7 . MOHAMAD ILHAM DWI FIRMANSYAH\n",
      "8 . YUDA HENDRIAWAN BUDI HANDOKO\n",
      "9 . SHAFIRA HERLINAWATI\n",
      "10 . HENGKY KURNIAWAN\n",
      "11 . SOVIA PRABANINGTYAS\n",
      "12 . FERISA TRI PUTRI PRESTASI\n",
      "13 . NUR LAILI ASTI PRAMESTI\n",
      "14 . RENJIRO OWEN\n",
      "15 . RIF`AN AMROZI\n",
      "16 . SOMA USHIO\n",
      "17 . ZUHAIR\n",
      "18 . FRANSISCA DIVA AMADEA\n",
      "19 . MIRDHA SUCI ANANDA\n",
      "20 . JULINAR\n",
      "21 . MUHAMMAD NANDA SETIAWAN\n",
      "22 . ALDI EKA WAHYU WIDIANTO\n",
      "23 . ARIQOH FAUZIYAH IRBAH\n",
      "24 . GALANG REFORMANTOKO\n",
      "25 . RIO TINTO HERLAMBANG\n",
      "26 . MUHAMMAD JEFRI FRANSISKA\n",
      "27 . EDWIN RISBOWO\n",
      "28 . ALLIF ALFIYAN\n",
      "29 . MOCHAMAD FARHAN MARGA KUSUMA\n",
      "30 . ANGGA KURNIAWAN\n",
      "31 . FARHAN HAFIZH\n",
      "32 . ANDI AQIL AMANULHAQ\n"
     ]
    }
   ],
   "source": [
    "mahasiswa=[]\n",
    "for orang in nama:\n",
    "    orang=orang.strip()\n",
    "    mahasiswa.append(orang)\n",
    "mahasiswa\n",
    "\n",
    "for index, nama in enumerate(mahasiswa):\n",
    "     print(index,'.',nama)\n",
    "#     print(str(index)+'.'+nama)\n",
    "#     print(f'{index+1}.{nama}')"
   ]
  },
  {
   "cell_type": "code",
   "execution_count": null,
   "metadata": {},
   "outputs": [],
   "source": []
  },
  {
   "cell_type": "code",
   "execution_count": null,
   "metadata": {},
   "outputs": [],
   "source": []
  }
 ],
 "metadata": {
  "kernelspec": {
   "display_name": "Python 3",
   "language": "python",
   "name": "python3"
  },
  "language_info": {
   "codemirror_mode": {
    "name": "ipython",
    "version": 3
   },
   "file_extension": ".py",
   "mimetype": "text/x-python",
   "name": "python",
   "nbconvert_exporter": "python",
   "pygments_lexer": "ipython3",
   "version": "3.6.5"
  }
 },
 "nbformat": 4,
 "nbformat_minor": 2
}
