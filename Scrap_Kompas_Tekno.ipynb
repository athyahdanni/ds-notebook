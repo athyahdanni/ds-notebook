{
 "cells": [
  {
   "cell_type": "code",
   "execution_count": 27,
   "metadata": {},
   "outputs": [],
   "source": [
    "import requests\n",
    "from bs4 import BeautifulSoup\n",
    "import pandas as pd"
   ]
  },
  {
   "cell_type": "code",
   "execution_count": 31,
   "metadata": {},
   "outputs": [],
   "source": [
    "link1='https://indeks.kompas.com/tekno/2019-05-11'"
   ]
  },
  {
   "cell_type": "code",
   "execution_count": 32,
   "metadata": {},
   "outputs": [],
   "source": [
    "req=requests.get(link1)\n",
    "soup=BeautifulSoup(req.text,'lxml')"
   ]
  },
  {
   "cell_type": "code",
   "execution_count": 33,
   "metadata": {
    "scrolled": true
   },
   "outputs": [
    {
     "name": "stdout",
     "output_type": "stream",
     "text": [
      "[<a class=\"article__link\" href=\"https://tekno.kompas.com/read/2019/05/11/11490047/xl-luncurkan-axis-owsem-paket-khusus-untuk-gaming\">XL Luncurkan Axis Owsem, Paket Khusus untuk Gaming</a>, <a class=\"article__link\" href=\"https://tekno.kompas.com/read/2019/05/11/08340077/2019-tahun-terakhir-whatsapp-di-windows-phone-\">2019, Tahun Terakhir WhatsApp di Windows Phone </a>]\n"
     ]
    }
   ],
   "source": [
    "seluruh_judul=soup.find_all('a',class_='article__link')\n",
    "print(seluruh_judul)"
   ]
  },
  {
   "cell_type": "code",
   "execution_count": 40,
   "metadata": {},
   "outputs": [
    {
     "name": "stdout",
     "output_type": "stream",
     "text": [
      "['XL Luncurkan Axis Owsem, Paket Khusus untuk Gaming', '2019, Tahun Terakhir WhatsApp di Windows Phone ']\n",
      "['https://tekno.kompas.com/read/2019/05/11/11490047/xl-luncurkan-axis-owsem-paket-khusus-untuk-gaming', 'https://tekno.kompas.com/read/2019/05/11/08340077/2019-tahun-terakhir-whatsapp-di-windows-phone-']\n",
      "\n",
      "\n",
      "XL Luncurkan Axis Owsem, Paket Khusus untuk Gaming\n",
      "2019, Tahun Terakhir WhatsApp di Windows Phone \n"
     ]
    }
   ],
   "source": [
    "judull=[]\n",
    "link=[]\n",
    "for judul in seluruh_judul:\n",
    "    judull.append(judul.text)\n",
    "    link.append(judul['href'])\n",
    "print(judull)\n",
    "print(link)\n",
    "print('\\n')\n",
    "for judul in seluruh_judul:\n",
    "    print(judul.text)"
   ]
  },
  {
   "cell_type": "code",
   "execution_count": 35,
   "metadata": {},
   "outputs": [
    {
     "name": "stdout",
     "output_type": "stream",
     "text": [
      "[<div class=\"article__date\">11/05/2019, 11:49 WIB</div>, <div class=\"article__date\">11/05/2019, 08:34 WIB</div>]\n"
     ]
    }
   ],
   "source": [
    "seluruh_tanggal=soup.find_all(class_='article__date')\n",
    "print(seluruh_tanggal)"
   ]
  },
  {
   "cell_type": "code",
   "execution_count": 36,
   "metadata": {},
   "outputs": [
    {
     "name": "stdout",
     "output_type": "stream",
     "text": [
      "['11/05/2019, 11:49 WIB', '11/05/2019, 08:34 WIB']\n"
     ]
    }
   ],
   "source": [
    "tanggall=[]\n",
    "for tanggal in seluruh_tanggal:\n",
    "    tanggall.append(tanggal.text)\n",
    "print(tanggall)"
   ]
  },
  {
   "cell_type": "code",
   "execution_count": 37,
   "metadata": {},
   "outputs": [
    {
     "name": "stdout",
     "output_type": "stream",
     "text": [
      "[<div class=\"article__asset\"><a href=\"https://tekno.kompas.com/read/2019/05/11/11490047/xl-luncurkan-axis-owsem-paket-khusus-untuk-gaming\"><img alt=\"XL Luncurkan Axis Owsem, Paket Khusus untuk Gaming\" src=\"https://asset.kompas.com/crop/8x0:800x528/230x152/data/photo/2019/05/10/3763375889.jpg\"/></a></div>, <div class=\"article__asset\"><a href=\"https://tekno.kompas.com/read/2019/05/11/08340077/2019-tahun-terakhir-whatsapp-di-windows-phone-\"><img alt=\"2019, Tahun Terakhir WhatsApp di Windows Phone \" src=\"https://asset.kompas.com/crop/0x0:780x390/230x152/data/photo/2014/06/02/2133390whatsapp-windowsphone8780x390.jpg\"/></a></div>]\n"
     ]
    }
   ],
   "source": [
    "seluruh_gambar=soup.find_all('div',class_='article__asset')\n",
    "print(seluruh_gambar)"
   ]
  },
  {
   "cell_type": "code",
   "execution_count": 38,
   "metadata": {},
   "outputs": [
    {
     "name": "stdout",
     "output_type": "stream",
     "text": [
      "['https://asset.kompas.com/crop/8x0:800x528/230x152/data/photo/2019/05/10/3763375889.jpg', 'https://asset.kompas.com/crop/0x0:780x390/230x152/data/photo/2014/06/02/2133390whatsapp-windowsphone8780x390.jpg']\n"
     ]
    }
   ],
   "source": [
    "gambarr=[]\n",
    "for gambar in seluruh_gambar:\n",
    "    gambarr.append(gambar.img['src'])\n",
    "print(gambarr)"
   ]
  },
  {
   "cell_type": "code",
   "execution_count": 46,
   "metadata": {},
   "outputs": [
    {
     "name": "stdout",
     "output_type": "stream",
     "text": [
      "KOMPAS.com - Operator seluler  XL Axiata meluncurkan  paket internet  gaming khusus bernama OWSEM melalui brand  Axis.  Paket ini menyasar anak muda, yang hobi bermain  game dan bermedia sosial.\n",
      "\"Segmen anak muda ini memiliki karakter yang khas dalam mengakses internet dan layanan digital, berbeda dengan segmen lain,\" terang Chief Marketing Officer XL Axiata David Arcelus Oses melalui keterangan resmi yang diterima KompasTekno, Sabtu (11/5/2019).\n",
      "OWSEM menawarkan harga kuota data khusus dan akses ke beberapa game tanpa batas. Pengguna bisa menikmati akses ke sosial media, seperti Instagram, Facebook, Twitter, dan TikTok melalui kuota media sosial.\n",
      "Layanan streaming musik, seperti Joox dan Smule juga bisa dinikmati dengan kuota musik. Sementara kuota gaming unlimited bisa digunakan untuk bermain Mobile Legends, AoV, Free Fire, Vain Glory, Asphlat 9, Modern Combat 5, dan HAGO tanpa batas.Baca juga: XL Jual Paket Data Internet dengan Cashback hingga Rp 1,2 Juta\n",
      "Ada bebera paket yang tersedia berdasarkan besaran kuota.\n",
      "Pertama adalah paket kuota 32 GB seharga Rp 59.900 yang dibagi menjadi 4 GB kuota utama, 12 GB kuota malam yang aktif pukul 00.00-06.00, 8GB kuota sosial media, dan 8 GB kuota musik.\n",
      "Ada pula paket 24 GB dengan harga Rp 51.900. Paket ini juga dibagi-bagi menjadi 3 GB kuota utama, 9GB kuota malam, 6GB kuota sosial media, dan 6GB kuota musik.\n",
      "Kemudian ada paket 16GB yang dibagi menjadi 2 GB kuota utama, 6 GB kuota malam, 4 GB kuota sosial media, dan 4 GB kuota musik.\n",
      "Selengkapnya bisa dicek di situs axisnet.id berikut. Semua paket OWSEM ini bisa dibeli mulai 9 Mei 2019 melalui aplikasi AXISnet dan nomor UMB *123#. Pegguna juga bisa membeli paket ini di gerai pulsa terdekat mulai 13 Mei mendatang.Baca juga: XL Luncurkan Paket Data Prioritas untuk Pelanggan Prabayar\n",
      "KOMPAS.com -  WhatsApp akan menyetop dukungan untuk sistem operasi  Windows Phone pada 31 Desember 2019 mendatang.\n",
      "Penghentian ini sejalan dengan keputusan Microsoft yang akan mengakhiri dukungan untuk Windows 10 Mobile pada bulan Desember.\n",
      "Dalam blog resminya, WhatsApp menyebut tidak lagi mengembangkan layanan untuk Windows Phone. Sehingga pengguna disarankan untuk beralih menggunakan sistem operasi lain. Micorosft sendiri telah mengimbau pengguna Windows Phone sebelumya untuk bermigrasi ke perangkat  Android atau  iOS.\n",
      "Pengguna Windows Phone bisa memilih menggunakan perangkat Android versi 4.03 atau lebih baru atau perangkat iOS versi 8 atau lebih baru.\n",
      "WhatsApp juga mengumumkan tenggat untuk beberapa sistem operasi Android dan iOS lawas.\n",
      "Pengguna Android versi 2.3.7 atau versi lebih lama, serta iOS 7 dan versi lebih lama, hanya akan bisa menggunakan layanan WhatsApp sampai tanggal 1 Februari 2020. Baca juga: WhatsApp Sudah Tidak Bisa Dipakai Lagi di Tipe Ponsel Ini\n",
      "Perlu diperhatikan, bahwa pengguna perangkat kedua sistem operasi di atas tidak lagi bisa membuat akun WhatsApp baru ataupun melakukan verifikasi ulang akun yang sudah ada.\n",
      "Karena pengembangan layanan sudah tidak tersedia, WhatsApp mewanti-wanti bahwa kemungkinan ada beberapa fitur yang tidak berfungsi sewaktu-waktu dan tidka bisa dilakukan pembaruan.Baca juga: Begini Cara Video Call 4 Orang Bersamaan di WhatsApp\n",
      "WahtsApp rutin memangkas dukungan untuk beberapa perangkat yang minim basis pengguna. Sebelumnya, aplikasi layanan pesan instan ini telah menghentikan dukungan untuk sistem operasi Nokia Symbian S60, Nokia Series 40, BlackBerry OS dan BlackBerry 10.\n"
     ]
    }
   ],
   "source": [
    "for i in link:\n",
    "    req=requests.get(i)\n",
    "    soup=BeautifulSoup(req.text,'lxml')\n",
    "    seluruh_paragraf=soup.find_all('div', class_='read__content')\n",
    "    print(seluruh_paragraf[0].text.strip())"
   ]
  },
  {
   "cell_type": "code",
   "execution_count": null,
   "metadata": {},
   "outputs": [],
   "source": []
  }
 ],
 "metadata": {
  "kernelspec": {
   "display_name": "Python 3",
   "language": "python",
   "name": "python3"
  },
  "language_info": {
   "codemirror_mode": {
    "name": "ipython",
    "version": 3
   },
   "file_extension": ".py",
   "mimetype": "text/x-python",
   "name": "python",
   "nbconvert_exporter": "python",
   "pygments_lexer": "ipython3",
   "version": "3.6.5"
  }
 },
 "nbformat": 4,
 "nbformat_minor": 2
}
